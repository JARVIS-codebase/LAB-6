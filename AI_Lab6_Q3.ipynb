{
  "cells": [
    {
      "cell_type": "code",
      "execution_count": 12,
      "metadata": {
        "id": "avfFSj8FZOpW"
      },
      "outputs": [],
      "source": [
        "import numpy as np\n",
        "from sklearn.datasets import make_blobs\n",
        "from sklearn.mixture import GaussianMixture\n",
        "from matplotlib import pyplot as plt\n",
        "import seaborn as sns"
      ]
    },
    {
      "cell_type": "code",
      "execution_count": 13,
      "metadata": {
        "id": "y8dPiJYTZYXA"
      },
      "outputs": [],
      "source": [
        "# function used for visulization using seaborn library where set is used for default values.\n",
        "sns.set()"
      ]
    },
    {
      "cell_type": "code",
      "execution_count": 14,
      "metadata": {
        "colab": {
          "base_uri": "https://localhost:8080/"
        },
        "id": "3ZTlhagaZcIG",
        "outputId": "d7f13583-900d-40b0-c673-5aaf5c0288dd"
      },
      "outputs": [
        {
          "name": "stdout",
          "output_type": "stream",
          "text": [
            "0.06685872501993229,-0.6604233740791752,2.069703239929657,1.530678007667195,1.112939894012916,0.1458996114340977,2.365293148688218,0.04882983970664212,0.1264952337733675,0.9120944053939763,4.021951754934347,4.118717276143826,3.304709348372986,3.250364228887389,4.854982462551962,4.554417055631245,3.791465898014367,4.309007337891146,1.42974168926228,2.85606479096107,1.419771821157689,0.0880959578096624,1.358815911794687,-0.7862085420144196,3.335572899266917,1.090813050128261,-0.003325038611340148,0.6440233739587122,0.9412419679824826,0.09916190750478238,5.055732817570938,3.436192701684293,3.319949341987982,4.631599656641248,5.416412625966052,4.26061193666316,4.925906154863055,3.954387360357774,3.920112665633261,3.48041757374058\n",
            "\n"
          ]
        }
      ],
      "source": [
        "\n",
        "# As the csv file contains commas between values we have used delimiter and we are reading our data from file whose file path is given\n",
        "# as first parameter\n",
        "# Data collected is stored as array in X\n",
        "file = \"2020_em_clustering.csv\"\n",
        "\n",
        "f = open(file, \"r\")\n",
        "content = f.read()\n",
        "f.close()\n",
        "\n",
        "print(content)     "
      ]
    },
    {
      "cell_type": "code",
      "execution_count": 15,
      "metadata": {
        "colab": {
          "base_uri": "https://localhost:8080/"
        },
        "id": "Fo8si4tja0SQ",
        "outputId": "f5804611-628d-4208-eecf-ecf2316eddbd"
      },
      "outputs": [
        {
          "name": "stdout",
          "output_type": "stream",
          "text": [
            "[ 6.68587250e-02 -6.60423374e-01  2.06970324e+00  1.53067801e+00\n",
            "  1.11293989e+00  1.45899611e-01  2.36529315e+00  4.88298397e-02\n",
            "  1.26495234e-01  9.12094405e-01  4.02195175e+00  4.11871728e+00\n",
            "  3.30470935e+00  3.25036423e+00  4.85498246e+00  4.55441706e+00\n",
            "  3.79146590e+00  4.30900734e+00  1.42974169e+00  2.85606479e+00\n",
            "  1.41977182e+00  8.80959578e-02  1.35881591e+00 -7.86208542e-01\n",
            "  3.33557290e+00  1.09081305e+00 -3.32503861e-03  6.44023374e-01\n",
            "  9.41241968e-01  9.91619075e-02  5.05573282e+00  3.43619270e+00\n",
            "  3.31994934e+00  4.63159966e+00  5.41641263e+00  4.26061194e+00\n",
            "  4.92590615e+00  3.95438736e+00  3.92011267e+00  3.48041757e+00]\n"
          ]
        }
      ],
      "source": [
        "X = np.genfromtxt(file, delimiter=',')\n",
        "print(X)"
      ]
    },
    {
      "cell_type": "code",
      "execution_count": 16,
      "metadata": {
        "colab": {
          "base_uri": "https://localhost:8080/",
          "height": 286
        },
        "id": "rHqUd2OQZj1g",
        "outputId": "2e989ffb-73ed-417a-b337-1454cb16ece5"
      },
      "outputs": [
        {
          "data": {
            "text/plain": [
              "<matplotlib.collections.PathCollection at 0x7f6dcc745f70>"
            ]
          },
          "execution_count": 16,
          "metadata": {},
          "output_type": "execute_result"
        },
        {
          "data": {
            "image/png": "[encoded data removed]",
            "text/plain": [
              "<Figure size 640x480 with 1 Axes>"
            ]
          },
          "metadata": {},
          "output_type": "display_data"
        }
      ],
      "source": [
        "\n",
        "# determines the size of array x\n",
        "a=X.size\n",
        "# creates a array z all initialised to 0 of size a from array x\n",
        "Z=np.zeros(a)\n",
        "\n",
        "# creates a scatter plot\n",
        "plt.scatter(X,Z)\n",
        "\n",
        "# \n",
        "# plt.plot(X, 'o')"
      ]
    },
    {
      "cell_type": "code",
      "execution_count": 17,
      "metadata": {
        "id": "AwgOAl11Zlbp"
      },
      "outputs": [],
      "source": [
        "\n",
        "# initializes gaussian mixture and the parameter here indicates \n",
        "# that we have taken 2 here to fit two gaussian distribution\n",
        "# here two indicates two distinct clusters\n",
        "gmm = GaussianMixture(n_components=2)\n",
        "# function to generate 2d array as fit function takes 2d array\n",
        "Y=X.reshape((-1,1))\n",
        "# fit method  uses the data to estimate the parameters of the Gaussian distributions in the mixture model.\n",
        "gmm.fit(Y)\n",
        "# predict the class labels for clusters\n",
        "labels = gmm.predict(Y)"
      ]
    },
    {
      "cell_type": "code",
      "execution_count": 18,
      "metadata": {
        "colab": {
          "base_uri": "https://localhost:8080/"
        },
        "id": "-fkASrRRZpc0",
        "outputId": "8ce1297f-54fd-461c-a4fe-c6bbfd27f489"
      },
      "outputs": [
        {
          "name": "stdout",
          "output_type": "stream",
          "text": [
            "[0 0 0 0 0 0 1 0 0 0 1 1 1 1 1 1 1 1 0 1 0 0 0 0 1 0 0 0 0 0 1 1 1 1 1 1 1\n",
            " 1 1 1]\n"
          ]
        }
      ],
      "source": [
        "\n",
        "print(labels)\n",
        "\n",
        "# y and z are coordinates and according to labels colours are assigned\n",
        "# plt.scatter(Y,Z, c=labels, cmap='viridis');"
      ]
    }
  ],
  "metadata": {
    "colab": {
      "provenance": []
    },
    "kernelspec": {
      "display_name": "Python 3",
      "name": "python3"
    },
    "language_info": {
      "name": "python"
    }
  },
  "nbformat": 4,
  "nbformat_minor": 0
}
